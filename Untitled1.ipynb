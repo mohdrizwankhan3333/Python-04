{
 "cells": [
  {
   "cell_type": "code",
   "execution_count": 3,
   "id": "bf9e841e-cdb9-4f44-882e-a9e67bc6bd8a",
   "metadata": {},
   "outputs": [
    {
     "data": {
      "text/plain": [
       "211"
      ]
     },
     "execution_count": 3,
     "metadata": {},
     "output_type": "execute_result"
    }
   ],
   "source": [
    "class stack:\n",
    "    def __init__(self,capacity):\n",
    "        self.capacity=capacity\n",
    "        self.arr=[None]*capacity\n",
    "        self.top=-1\n",
    "    def isempty(self):\n",
    "        return self.top==-1\n",
    "    def isfull(self):\n",
    "        return self.top==capacity-1\n",
    "    def push(self,data):\n",
    "        self.data=data\n",
    "        self.top+=1\n",
    "        self.arr[self.top]=self.data\n",
    "    def pop(self):\n",
    "        data=self.arr[self.top]\n",
    "        self.top-=1\n",
    "        return self.data\n",
    "s=stack(5)\n",
    "s.push(2)\n",
    "s.push(21)\n",
    "s.push(211)\n",
    "s.pop()"
   ]
  },
  {
   "cell_type": "code",
   "execution_count": null,
   "id": "a909bb13-69e8-4722-9478-9bdeb1385a94",
   "metadata": {},
   "outputs": [],
   "source": []
  }
 ],
 "metadata": {
  "kernelspec": {
   "display_name": "Python 3 (ipykernel)",
   "language": "python",
   "name": "python3"
  },
  "language_info": {
   "codemirror_mode": {
    "name": "ipython",
    "version": 3
   },
   "file_extension": ".py",
   "mimetype": "text/x-python",
   "name": "python",
   "nbconvert_exporter": "python",
   "pygments_lexer": "ipython3",
   "version": "3.10.8"
  }
 },
 "nbformat": 4,
 "nbformat_minor": 5
}
