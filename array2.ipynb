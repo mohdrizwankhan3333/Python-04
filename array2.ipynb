{
 "cells": [
  {
   "cell_type": "code",
   "execution_count": null,
   "id": "72a1cfb2-79c1-4b7b-97aa-c0d5cc4badc9",
   "metadata": {},
   "outputs": [],
   "source": [
    "'''Q.2 Given two strings word1 and word2, return the minimum number of operations required to convert word1\n",
    "to word2.\n",
    "Example 1:\n",
    "Input: word1 = \"horse\", word2 = \"ros\"\n",
    "Output: 3\n",
    "Explanation:\n",
    "horse -> rorse (replace 'h' with 'r')\n",
    "rorse -> rose (remove 'r')\n",
    "rose -> ros (remove 'e')'''\n"
   ]
  },
  {
   "cell_type": "code",
   "execution_count": 10,
   "id": "0b034130-65b8-4398-934e-b69147b4fe49",
   "metadata": {},
   "outputs": [
    {
     "name": "stdout",
     "output_type": "stream",
     "text": [
      "1\n"
     ]
    }
   ],
   "source": [
    "'''Q. 3 Print the max value of the array [ 13, 1, -3, 22, 5].'''\n"
   ]
  },
  {
   "cell_type": "code",
   "execution_count": null,
   "id": "2455e25e-bda8-4eae-9127-ea82c4c72196",
   "metadata": {},
   "outputs": [],
   "source": []
  }
 ],
 "metadata": {
  "kernelspec": {
   "display_name": "Python 3 (ipykernel)",
   "language": "python",
   "name": "python3"
  },
  "language_info": {
   "codemirror_mode": {
    "name": "ipython",
    "version": 3
   },
   "file_extension": ".py",
   "mimetype": "text/x-python",
   "name": "python",
   "nbconvert_exporter": "python",
   "pygments_lexer": "ipython3",
   "version": "3.10.8"
  }
 },
 "nbformat": 4,
 "nbformat_minor": 5
}
