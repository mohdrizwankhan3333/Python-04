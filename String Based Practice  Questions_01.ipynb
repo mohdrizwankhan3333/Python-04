{
 "cells": [
  {
   "cell_type": "code",
   "execution_count": null,
   "id": "8ca3a84f-4c46-451a-b24d-3bccce3898c0",
   "metadata": {},
   "outputs": [],
   "source": [
    "String Based Practice\n",
    "\n",
    "Questions\n",
    "\n",
    "Practice Questions"
   ]
  },
  {
   "cell_type": "code",
   "execution_count": 3,
   "id": "f37dda48-fcc2-4b59-a62f-ff7fd0284a14",
   "metadata": {},
   "outputs": [
    {
     "name": "stdout",
     "output_type": "stream",
     "text": [
      "uihuwgugj\n",
      "no\n"
     ]
    }
   ],
   "source": [
    "s=\"jgugwuhiu\"\n",
    "#2. Check if a string is a palindrome.\n",
    "print(\"yes \"if s==s[::-1] else \"no\")"
   ]
  },
  {
   "cell_type": "code",
   "execution_count": 4,
   "id": "95c30de3-457b-44be-aac8-6ebc31543d84",
   "metadata": {},
   "outputs": [
    {
     "name": "stdout",
     "output_type": "stream",
     "text": [
      "uihuwgugj\n"
     ]
    }
   ],
   "source": [
    "#1. Write a program to reverse a string.\n",
    "s=\"jgugwuhiu\"\n",
    "print(s[::-1])"
   ]
  },
  {
   "cell_type": "code",
   "execution_count": 5,
   "id": "801aa4f4-280b-406f-8fc5-995526088d26",
   "metadata": {},
   "outputs": [
    {
     "name": "stdout",
     "output_type": "stream",
     "text": [
      "JGUGWUHIU\n"
     ]
    }
   ],
   "source": [
    "#3. Convert a string to uppercase.\n",
    "print(s.upper())"
   ]
  },
  {
   "cell_type": "code",
   "execution_count": 6,
   "id": "b91ce533-47c4-4721-a522-f4c8e048f39a",
   "metadata": {},
   "outputs": [
    {
     "name": "stdout",
     "output_type": "stream",
     "text": [
      "jgugwuhiu\n"
     ]
    }
   ],
   "source": [
    "#4. Convert a string to lowercase.\n",
    "S=\"JGUGWUHIU\"\n",
    "print(S.lower())"
   ]
  },
  {
   "cell_type": "code",
   "execution_count": 8,
   "id": "c8c8bb4b-1e68-4794-94fa-638bf5ac3cd4",
   "metadata": {},
   "outputs": [
    {
     "name": "stdout",
     "output_type": "stream",
     "text": [
      "6\n"
     ]
    }
   ],
   "source": []
  },
  {
   "cell_type": "code",
   "execution_count": null,
   "id": "e1f77b63-258b-4adc-800d-5a5bac03444f",
   "metadata": {},
   "outputs": [],
   "source": [
    "##5. Count the number of vowels in a string.\n",
    "c = 0\n",
    "l = \"rizwan\"\n",
    "vowels = \"aeiouAEIOU\"\n",
    "for i in l:\n",
    "    if i in vowels:\n",
    "        c += 1\n",
    "print(c)\n"
   ]
  },
  {
   "cell_type": "code",
   "execution_count": 13,
   "id": "b61f7b16-1ee3-4278-a17f-2144e50180f4",
   "metadata": {},
   "outputs": [
    {
     "name": "stdout",
     "output_type": "stream",
     "text": [
      "4\n"
     ]
    }
   ],
   "source": [
    "#6. Count the number of consonants in a string.\n",
    "l = \"rizwan\"\n",
    "vowels = \"aeiouAEIOU\"\n",
    "print(sum(1 for i in l if i not in  vowels))"
   ]
  },
  {
   "cell_type": "code",
   "execution_count": 15,
   "id": "427aeafb-588f-47b2-ba28-518dec394fca",
   "metadata": {},
   "outputs": [
    {
     "name": "stdout",
     "output_type": "stream",
     "text": [
      "uiuhiuioouoiuo\n"
     ]
    }
   ],
   "source": [
    "#7. Remove all whitespaces from a string.\n",
    "s=\"uiuhiu i oou oiu o\"\n",
    "print(s.replace(\" \",\"\"))"
   ]
  },
  {
   "cell_type": "code",
   "execution_count": 16,
   "id": "2d75d66e-b70b-4d81-8852-09492df8d892",
   "metadata": {},
   "outputs": [
    {
     "name": "stdout",
     "output_type": "stream",
     "text": [
      "18\n"
     ]
    }
   ],
   "source": [
    "#8. Find the length of a string without using the `len()` function.\n",
    "print(sum(1 for i in s))"
   ]
  },
  {
   "cell_type": "code",
   "execution_count": 21,
   "id": "b8109c46-a9b9-4a07-88a5-a0e6b6d2bcb0",
   "metadata": {},
   "outputs": [
    {
     "name": "stdout",
     "output_type": "stream",
     "text": [
      "yes\n"
     ]
    }
   ],
   "source": [
    "#9. Check if a string contains a specific word.\n",
    "s=\"oiyuyiuyoiuou\"\n",
    "print(\"yes\" if \"i\" in s else \"no\")"
   ]
  },
  {
   "cell_type": "code",
   "execution_count": 23,
   "id": "3f31ad04-2c84-4a15-a7de-603cbd1efbf2",
   "metadata": {},
   "outputs": [
    {
     "name": "stdout",
     "output_type": "stream",
     "text": [
      "rizwan llll\n",
      "rizwan khan\n"
     ]
    }
   ],
   "source": [
    "#10. Replace a word in a string with another word.\n",
    "s=\"rizwan khan\"\n",
    "print(s.replace(\"khan\",\"llll\"))"
   ]
  },
  {
   "cell_type": "code",
   "execution_count": 28,
   "id": "3da1e50e-638d-4460-aef9-d344d2d43f10",
   "metadata": {},
   "outputs": [
    {
     "name": "stdout",
     "output_type": "stream",
     "text": [
      "3\n"
     ]
    }
   ],
   "source": [
    "#11. Count the occurrences of a word in a string.\n",
    "s = \"oiyuyiuyoiuou\"\n",
    "print(s.count(\"o\"))"
   ]
  },
  {
   "cell_type": "code",
   "execution_count": 29,
   "id": "0349a9af-654f-4002-a6e5-2e51266eb08e",
   "metadata": {},
   "outputs": [
    {
     "name": "stdout",
     "output_type": "stream",
     "text": [
      "0\n"
     ]
    }
   ],
   "source": [
    "#12. Find the first occurrence of a word in a string.\n",
    "print(s.find(\"o\"))"
   ]
  },
  {
   "cell_type": "code",
   "execution_count": 30,
   "id": "edfca7be-8184-4e5d-904d-00a84003baed",
   "metadata": {},
   "outputs": [
    {
     "name": "stdout",
     "output_type": "stream",
     "text": [
      "11\n"
     ]
    }
   ],
   "source": [
    "#13. Find the last occurrence of a word in a string.\n",
    "print(s.rfind(\"o\"))"
   ]
  },
  {
   "cell_type": "code",
   "execution_count": 37,
   "id": "3e374a31-3432-4660-9183-5c505cda8eb9",
   "metadata": {},
   "outputs": [
    {
     "name": "stdout",
     "output_type": "stream",
     "text": [
      "['mohd', 'rizwank', 'khan', 'khank', 'hhiuy', 'yeiyw', 'oiwuf', 'oiuoiurewi', 'yiuggi']\n"
     ]
    }
   ],
   "source": [
    "#14. Split a string into a list of words.\n",
    "s=\"mohd rizwank khan khank hhiuy yeiyw oiwuf oiuoiurewi yiuggi\"\n",
    "print(s.split())"
   ]
  },
  {
   "cell_type": "code",
   "execution_count": 35,
   "id": "2ea9f66d-4100-4c5a-a264-d8600cd419d0",
   "metadata": {},
   "outputs": [
    {
     "name": "stdout",
     "output_type": "stream",
     "text": [
      "mohdrizwankkhankhankhhiuyyeiywoiwufoiuoiurewiyiuggi\n"
     ]
    }
   ],
   "source": [
    "lis = ['mohd', 'rizwank', 'khan', 'khank', 'hhiuy', 'yeiyw', 'oiwuf', 'oiuoiurewi', 'yiuggi']\n",
    "result = ''.join(lis)\n",
    "print(result)"
   ]
  },
  {
   "cell_type": "code",
   "execution_count": 38,
   "id": "41feb5f5-af0a-46e5-9c4c-39879182c3c8",
   "metadata": {},
   "outputs": [
    {
     "name": "stdout",
     "output_type": "stream",
     "text": [
      "mohd_rizwank_khan_khank_hhiuy_yeiyw_oiwuf_oiuoiurewi_yiuggi\n"
     ]
    }
   ],
   "source": [
    "#16. Convert a string where words are separated by spaces to one where words\n",
    "#are separated by underscores.\n",
    "print(s.replace(\" \",\"_\"))"
   ]
  },
  {
   "cell_type": "code",
   "execution_count": 43,
   "id": "18b464a1-79ba-4b12-98b5-fd3202cfe249",
   "metadata": {},
   "outputs": [
    {
     "name": "stdout",
     "output_type": "stream",
     "text": [
      "yes\n"
     ]
    }
   ],
   "source": [
    "#17. Check if a string starts with a specific word or phrase.\n",
    "s = \"iy8iyiuyiyoiuwroiuo\"\n",
    "print(\"yes\" if s.startswith(\"iy\") else \"no\")"
   ]
  },
  {
   "cell_type": "code",
   "execution_count": 48,
   "id": "493b2cd9-0bf4-49c3-bcd3-5c08ffcbb554",
   "metadata": {},
   "outputs": [
    {
     "name": "stdout",
     "output_type": "stream",
     "text": [
      "no\n"
     ]
    }
   ],
   "source": [
    "#18. Check if a string ends with a specific word or phrase.\n",
    "s = \"iy8iyiuyiyoiuwroiuo\"\n",
    "print(\"yes \" if s.endswith(\"k\") else \"no\")"
   ]
  },
  {
   "cell_type": "code",
   "execution_count": 51,
   "id": "75be40ad-cf57-4ccb-953c-f9f20b90e733",
   "metadata": {},
   "outputs": [
    {
     "name": "stdout",
     "output_type": "stream",
     "text": [
      "Iuyiury Iuyriy X Kjh Kxajh Xkjh\n"
     ]
    }
   ],
   "source": [
    "#19. Convert a string to title case (e.g., \"hello world\" to \"Hello World\").\n",
    "s=\"iuyiury iuyriy x kjh kxajh xkjh\"\n",
    "s = \"iuyiury iuyriy x kjh kxajh xkjh\"\n",
    "print(s.title())"
   ]
  },
  {
   "cell_type": "code",
   "execution_count": 54,
   "id": "795a80a8-2bf2-49f5-b5db-2ea590d367e2",
   "metadata": {},
   "outputs": [
    {
     "name": "stdout",
     "output_type": "stream",
     "text": [
      "rizwankhan\n"
     ]
    }
   ],
   "source": [
    "#20. Find the longest word in a string.\n",
    "s=\"rizwankhan khan mohd r rizwan kh\"\n",
    "s = \"rizwankhan khan mohd r rizwan kh\"\n",
    "words = s.split()\n",
    "print(max(words, key=len))"
   ]
  },
  {
   "cell_type": "code",
   "execution_count": 55,
   "id": "e4560566-74e7-4cbf-b83b-44e55f935246",
   "metadata": {},
   "outputs": [
    {
     "name": "stdout",
     "output_type": "stream",
     "text": [
      "r\n"
     ]
    }
   ],
   "source": [
    "#21. Find the shortest word in a string.\n",
    "s = \"rizwankhan khan mohd r rizwan kh\"\n",
    "words = s.split()\n",
    "print(min(words, key=len))"
   ]
  },
  {
   "cell_type": "code",
   "execution_count": null,
   "id": "c746e1e9-d916-4de0-80f7-e7e3afa53a4d",
   "metadata": {},
   "outputs": [],
   "source": [
    "#22. Reverse the order of words in a string.\n",
    "s = \"rizwankhan khan mohd r rizwan kh\"\n",
    "words = s.split()\n",
    "reversed_words = words[::-1]\n",
    "reversed_s = ' '.join(reversed_words)\n",
    "print(reversed_s)"
   ]
  },
  {
   "cell_type": "code",
   "execution_count": 56,
   "id": "abf0b060-52e1-453f-b6c1-88972c464ce9",
   "metadata": {},
   "outputs": [
    {
     "name": "stdout",
     "output_type": "stream",
     "text": [
      "The string is alphanumeric.\n"
     ]
    }
   ],
   "source": [
    "#23. Check if a string is alphanumeric.\n",
    "s = \"rizwankhan123\"\n",
    "if s.isalnum():\n",
    "    print(\"The string is alphanumeric.\")\n",
    "else:\n",
    "    print(\"The string is not alphanumeric.\")"
   ]
  },
  {
   "cell_type": "code",
   "execution_count": 5,
   "id": "6c79a91f-bf9d-4027-b056-9295fe75efa0",
   "metadata": {},
   "outputs": [
    {
     "name": "stdout",
     "output_type": "stream",
     "text": [
      "798\n"
     ]
    }
   ],
   "source": [
    "#24. Extract all digits from a string.\n",
    "s = \"yiui798\"\n",
    "digits = ''.join(i for i in s if i.isdigit())\n",
    "print(digits)  # Output: '798'"
   ]
  },
  {
   "cell_type": "code",
   "execution_count": 7,
   "id": "17b6607d-29d8-49b6-9ef5-364edd1d2feb",
   "metadata": {},
   "outputs": [
    {
     "name": "stdout",
     "output_type": "stream",
     "text": [
      "yiui\n"
     ]
    }
   ],
   "source": [
    "#25. Extract all alphabets from a string.\n",
    "s=\"\".join(i for i in s if i.isalpha())\n",
    "print(s)"
   ]
  },
  {
   "cell_type": "code",
   "execution_count": 9,
   "id": "3b159b90-76ba-4299-b99e-dd82f674bca9",
   "metadata": {},
   "outputs": [
    {
     "name": "stdout",
     "output_type": "stream",
     "text": [
      "II\n"
     ]
    }
   ],
   "source": [
    "#26. Count the number of uppercase letters in a string.\n",
    "s=\"IIuiuiu98798\"\n",
    "j=\"\".join(i for i in s if i.isupper())\n",
    "print(j)"
   ]
  },
  {
   "cell_type": "code",
   "execution_count": 10,
   "id": "714fc827-107f-4176-bf91-b524ff344654",
   "metadata": {},
   "outputs": [
    {
     "name": "stdout",
     "output_type": "stream",
     "text": [
      "uiuiu\n"
     ]
    }
   ],
   "source": [
    "#27. Count the number of lowercase letters in a string.\n",
    "j=\"\".join(i for i in s if i.islower())\n",
    "print(j)"
   ]
  },
  {
   "cell_type": "code",
   "execution_count": 11,
   "id": "d23e3280-10d5-49eb-abff-9961b0a15eb8",
   "metadata": {},
   "outputs": [
    {
     "name": "stdout",
     "output_type": "stream",
     "text": [
      "hELLO wORLD\n"
     ]
    }
   ],
   "source": [
    "#28. Swap the case of each character in a string\n",
    "s = \"Hello World\"\n",
    "swapped = s.swapcase()\n",
    "print(swapped)  # Output: hELLO wORLD"
   ]
  },
  {
   "cell_type": "code",
   "execution_count": 13,
   "id": "2417b2f7-0b1f-4d12-9b0f-0597e7c2f0f1",
   "metadata": {},
   "outputs": [
    {
     "name": "stdout",
     "output_type": "stream",
     "text": [
      " World, Hello again\n"
     ]
    }
   ],
   "source": [
    "#29. Remove a specific word from a string.\n",
    "s = \"Hello World, Hello again\"\n",
    "word_to_remove = \"Hello\"\n",
    "new_string = s.replace(word_to_remove, \"\", 1)\n",
    "print(new_string)  # Output: \" World, Hello again\""
   ]
  },
  {
   "cell_type": "code",
   "execution_count": 21,
   "id": "c2387a7d-77aa-4816-a297-01efe7775f3d",
   "metadata": {},
   "outputs": [
    {
     "name": "stdout",
     "output_type": "stream",
     "text": [
      "Valid email address\n"
     ]
    }
   ],
   "source": [
    "#30. Check if a string is a valid email address.\n",
    "import re\n",
    "\n",
    "def is_valid_email(email):\n",
    "    email_regex = r\"[^@]+@[^@]+\\.[^@]+\"\n",
    "    if re.match(email_regex, email):\n",
    "        return True\n",
    "    return False\n",
    "\n",
    "email = \"example@example.com\"\n",
    "if is_valid_email(email):\n",
    "    print(\"Valid email address\")\n",
    "else:\n",
    "    print(\"Invalid email address\")"
   ]
  },
  {
   "cell_type": "code",
   "execution_count": 27,
   "id": "f55f6e9c-34d9-46e5-8216-6b7858a219f2",
   "metadata": {},
   "outputs": [
    {
     "name": "stdout",
     "output_type": "stream",
     "text": [
      "example\n"
     ]
    }
   ],
   "source": [
    "#31. Extract the username from an email address string.\n",
    "def extract_username(email):\n",
    "    return email.split('@')[0]\n",
    "\n",
    "email = \"example@example.com\"\n",
    "username = extract_username(email)\n",
    "print(username)  # Output: \"example\""
   ]
  },
  {
   "cell_type": "code",
   "execution_count": 28,
   "id": "12f9d47c-0e6e-4715-a37d-ed908d040ca6",
   "metadata": {},
   "outputs": [
    {
     "name": "stdout",
     "output_type": "stream",
     "text": [
      "example.com\n"
     ]
    }
   ],
   "source": [
    "#32. Extract the domain name from an email address string.\n",
    "j=email.split(\"@\")[1]\n",
    "print(j)"
   ]
  },
  {
   "cell_type": "code",
   "execution_count": 30,
   "id": "d0b0157f-f45e-4142-bd21-18ce63a0c45d",
   "metadata": {},
   "outputs": [
    {
     "name": "stdout",
     "output_type": "stream",
     "text": [
      "uiyiuye i  i iuy\n"
     ]
    }
   ],
   "source": [
    "#33. Replace multiple spaces in a string with a single space.\n",
    "s=\"uiyiuye  i   i iuy\"\n",
    "print(s.replace(\"  \",\" \"))"
   ]
  },
  {
   "cell_type": "code",
   "execution_count": null,
   "id": "ddd55850-f70d-464b-9750-46c973afba5f",
   "metadata": {},
   "outputs": [],
   "source": [
    "#34. Check if a string is a valid URL.\n",
    "from urllib.parse import urlparse\n",
    "\n",
    "def is_valid_url(url):\n",
    "    try:\n",
    "        result = urlparse(url)\n",
    "        return all([result.scheme, result.netloc])\n",
    "    except ValueError:\n",
    "        return False\n",
    "\n",
    "url = \"https://www.example.com\"\n",
    "if is_valid_url(url):\n",
    "    print(\"Valid URL\")\n",
    "else:\n",
    "    print(\"Invalid URL\")"
   ]
  },
  {
   "cell_type": "code",
   "execution_count": null,
   "id": "49ea83fd-0ab4-44ea-a8ec-635d612bc3ba",
   "metadata": {},
   "outputs": [],
   "source": [
    "#35. Extract the protocol (http or https) from a URL string.\n",
    "from urllib.parse import urlparse\n",
    "\n",
    "def extract_protocol(url):\n",
    "    return urlparse(url).scheme\n",
    "\n",
    "url = \"https://www.example.com\"\n",
    "protocol = extract_protocol(url)\n",
    "print(protocol)  # Output: \"https\""
   ]
  },
  {
   "cell_type": "code",
   "execution_count": 33,
   "id": "49bbbc34-7bf9-410f-a24d-646689bd8345",
   "metadata": {},
   "outputs": [
    {
     "name": "stdout",
     "output_type": "stream",
     "text": [
      "{'i': 2, 'u': 2, 'y': 2, 'j': 2, 'h': 2, 'k': 1}\n"
     ]
    }
   ],
   "source": [
    "#36. Find the frequency of each character in a string.\n",
    "s = \"iuyiuyjhkjh\"\n",
    "char_freq = {}\n",
    "\n",
    "for char in s:\n",
    "    if char in char_freq:\n",
    "        char_freq[char] += 1\n",
    "    else:\n",
    "        char_freq[char] = 1\n",
    "\n",
    "print(char_freq)"
   ]
  },
  {
   "cell_type": "code",
   "execution_count": 34,
   "id": "6309536b-a4c8-4718-9105-5a831f55d320",
   "metadata": {},
   "outputs": [
    {
     "name": "stdout",
     "output_type": "stream",
     "text": [
      "Hello World Hows it going\n"
     ]
    }
   ],
   "source": [
    "#37. Remove all punctuation from a string.\n",
    "import string\n",
    "\n",
    "def remove_punctuation(s):\n",
    "    translator = str.maketrans('', '', string.punctuation)\n",
    "    return s.translate(translator)\n",
    "\n",
    "s = \"Hello, World! How's it going?\"\n",
    "print(remove_punctuation(s))"
   ]
  },
  {
   "cell_type": "code",
   "execution_count": null,
   "id": "3ae1b5b0-8ed0-48fb-b898-b3e762f40fc5",
   "metadata": {},
   "outputs": [],
   "source": [
    "'''38. Check if a string contains only digits.\n",
    "39. Check if a string contains only alphabets.\n",
    "40. Convert a string to a list of characters.'''\n",
    "def is_digit_only(s):\n",
    "    return s.isdigit()\n",
    "\n",
    "s = \"12345\"\n",
    "print(is_digit_only(s))  # True\n",
    "\n",
    "s = \"123abc\"\n",
    "print(is_digit_only(s))  # False\n",
    "def is_alpha_only(s):\n",
    "    return s.isalpha()\n",
    "\n",
    "s = \"hello\"\n",
    "print(is_alpha_only(s))  # True\n",
    "\n",
    "s = \"hello123\"\n",
    "print(is_alpha_only(s))  # False\n",
    "def string_to_list(s):\n",
    "    return list(s)\n",
    "\n",
    "s = \"hello\"\n",
    "print(string_to_list(s))  # ['h', 'e', 'l', 'l', 'o']"
   ]
  },
  {
   "cell_type": "code",
   "execution_count": 35,
   "id": "3dfdedcf-ca81-452d-8fb4-d19a17425631",
   "metadata": {},
   "outputs": [
    {
     "name": "stdout",
     "output_type": "stream",
     "text": [
      "True\n",
      "False\n"
     ]
    }
   ],
   "source": [
    "#41Check if two strings are anagrams.\n",
    "def are_anagrams(s1, s2):\n",
    "    return sorted(s1) == sorted(s2)\n",
    "\n",
    "s1 = \"listen\"\n",
    "s2 = \"silent\"\n",
    "print(are_anagrams(s1, s2))  # True\n",
    "\n",
    "s1 = \"hello\"\n",
    "s2 = \"world\"\n",
    "print(are_anagrams(s1, s2))  # False"
   ]
  },
  {
   "cell_type": "code",
   "execution_count": null,
   "id": "bc6f80e1-11e7-491a-b1a3-f4e5c8176b8f",
   "metadata": {},
   "outputs": [],
   "source": [
    "#42. Encode a string using a Caesar cipher.\n",
    "def caesar_encode(s, shift):\n",
    "    result = \"\"\n",
    "\n",
    "    for char in s:\n",
    "        if char.isalpha():\n",
    "            ascii_offset = 65 if char.isupper() else 97\n",
    "            result += chr((ord(char) - ascii_offset + shift) % 26 + ascii_offset)\n",
    "        else:\n",
    "            result += char\n",
    "\n",
    "    return result\n",
    "\n",
    "# Example usage:\n",
    "print(caesar_encode(\"Hello, World!\", 3))  # Khoor, Zruog!"
   ]
  },
  {
   "cell_type": "code",
   "execution_count": null,
   "id": "6431ef58-f28f-49f0-a28a-a1a628f5e971",
   "metadata": {},
   "outputs": [],
   "source": [
    "'''43. Decode a Caesar cipher encoded string.\n",
    "44. Find the most frequent word in a string.\n",
    "45. Find all unique words in a string.\n",
    "46. Count the number of syllables in a string.'''\n",
    "def caesar_decode(s, shift):\n",
    "    return caesar_encode(s, -shift)\n",
    "\n",
    "# Example usage:\n",
    "print(caesar_decode(\"Khoor, Zruog!\", 3))  # Hello, World!\n",
    "import re\n",
    "\n",
    "def most_frequent_word(s):\n",
    "    words = re.findall(r'\\w+', s.lower())\n",
    "    word_count = {}\n",
    "\n",
    "    for word in words:\n",
    "        if word in word_count:\n",
    "            word_count[word] += 1\n",
    "        else:\n",
    "            word_count[word] = 1\n",
    "\n",
    "    max_count = max(word_count.values())\n",
    "    most_frequent = [word for word, count in word_count.items() if count == max_count]\n",
    "\n",
    "    return most_frequent\n",
    "\n",
    "# Example usage:\n",
    "print(most_frequent_word(\"This is a sample string with many words. This is a test.\"))  # ['is']\n",
    "import re\n",
    "\n",
    "def unique_words(s):\n",
    "    return list(set(re.findall(r'\\w+', s.lower())))\n",
    "\n",
    "# Example usage:\n",
    "print(unique_words(\"This is a sample string with many words. This is a test.\"))  # ['this', 'is', 'a', 'sample', 'string', 'with', 'many', 'words', 'test']%%!\n",
    "def syllable_count(word):\n",
    "    word = word.lower()\n",
    "    count = 0\n",
    "\n",
    "    if word[0] in \"aeiou\":\n",
    "        count += 1\n",
    "\n",
    "    for i in range(1, len(word)):\n",
    "        if word[i] in \"aeiou\" and word[i - 1] not in \"aeiouy\":\n",
    "            count += 1\n",
    "\n",
    "    if word.endswith(\"e\"):\n",
    "        count -= 1\n",
    "\n",
    "    if word.endswith(\"le\"):\n",
    "        count += 1\n",
    "\n",
    "    if count == 0:\n",
    "        count += 1\n",
    "\n",
    "    return count\n",
    "\n",
    "def syllables_in_string(s):\n",
    "    return sum(syllable_count(word) for word in s.split())\n",
    "\n",
    "# Example usage:\n",
    "print(syllables_in_string(\"This is a sample string with many words.\"))  # 14"
   ]
  },
  {
   "cell_type": "code",
   "execution_count": 40,
   "id": "513a08db-1255-4cdc-813b-128f5ac69c41",
   "metadata": {},
   "outputs": [
    {
     "name": "stdout",
     "output_type": "stream",
     "text": [
      "This is a new sample string\n"
     ]
    }
   ],
   "source": [
    "#49. Insert a word at the nth position in a string.\n",
    "def insert_word_at_nth_position_from_end(s, word, n):\n",
    "    words = s.split()\n",
    "    words.insert(len(words) - n, word)\n",
    "    return ' '.join(words)\n",
    "\n",
    "# Example usage:\n",
    "print(insert_word_at_nth_position_from_end(\"This is a sample string\", \"new\", 2))  # This is a sample new string"
   ]
  },
  {
   "cell_type": "code",
   "execution_count": null,
   "id": "099bc262-d77e-47b2-9dc7-72bc8c069793",
   "metadata": {},
   "outputs": [],
   "source": [
    "''''\n",
    "\n",
    "47. Check if a string contains any special characters.\n",
    "48. Remove the nth word from a string.\n",
    "\n",
    "50. Convert a CSV string to a list of lists.'''\n",
    "import re\n",
    "\n",
    "def has_special_characters(s):\n",
    "    return bool(re.search(r'[^a-zA-Z0-9\\s]', s))\n",
    "\n",
    "# Example usage:\n",
    "print(has_special_characters(\"Hello World\"))  # False\n",
    "print(has_special_characters(\"Hello@World\"))  # True\n",
    "def remove_nth_word(s, n):\n",
    "    words = s.split()\n",
    "    if n > 0 and n <= len(words):\n",
    "        del words[n - 1]\n",
    "    return '.join(words)\n",
    "\n",
    "# Example usage:\n",
    "print(remove_nth_word(\"This is a sample string\", 3))  # This is sample string\n",
    "import csv\n",
    "from io import StringIO\n",
    "\n",
    "def csv_string_to_list_of_lists(csv_string):\n",
    "    reader = csv.reader(StringIO(csv_string))\n",
    "    return list(reader)\n",
    "\n",
    "# Example usage:\n",
    "csv_string = \"Name,Age,City\\nJohn,25,New York\\nAlice,30,San Francisco\\nBob,35,Chicago\"\n",
    "print(csv_string_to_list_of_lists(csv_string))\n",
    "# Output: [['Name', 'Age', 'City'], ['John', '25', 'New York'], ['Alice', '30', 'San Francisco'], ['Bob', '35', 'Chicago']]"
   ]
  },
  {
   "cell_type": "code",
   "execution_count": 43,
   "id": "822ca555-6668-4cad-b5da-ebe61212d0ad",
   "metadata": {},
   "outputs": [
    {
     "name": "stdout",
     "output_type": "stream",
     "text": [
      "[1, 2, 3, 4, 5, 6, 7, 8, 9, 10]\n"
     ]
    }
   ],
   "source": [
    "'''List Based Practice Problem :\n",
    "\n",
    "1. Create a list with integers from 1 to 10.'''\n",
    "l = [i for i in range(1, 11)]\n",
    "print(l)  # [1, 2, 3, 4, 5, 6, 7, 8, 9, 10]"
   ]
  },
  {
   "cell_type": "code",
   "execution_count": 44,
   "id": "a45a2ed0-0d0b-40ca-98a0-e39b5b32ef95",
   "metadata": {},
   "outputs": [
    {
     "name": "stdout",
     "output_type": "stream",
     "text": [
      "5\n",
      "[1, 2, 3, 4]\n",
      "[1, 4, 2, 3]\n",
      "[1, 3, 2, 4]\n",
      "[1, 3, 4, 5]\n",
      "True\n",
      "False\n",
      "1\n",
      "2\n",
      "[5, 4, 3, 2, 1]\n"
     ]
    }
   ],
   "source": [
    "'''\n",
    ". Find the length of a list without using the `len()` function.\n",
    "3. Append an element to the end of a list.\n",
    "4. Insert an element at a specific index in a list.\n",
    "5. Remove an element from a list by its value.\n",
    "6. Remove an element from a list by its index.\n",
    "7. Check if an element exists in a list.\n",
    "\n",
    "8. Find the index of the first occurrence of an element in a list.\n",
    "\n",
    "9. Count the occurrences of an element in a list.\n",
    "\n",
    "10. Reverse the order of elements in a list.'''\n",
    "def list_length(lst):\n",
    "    count = 0\n",
    "    for _ in lst:\n",
    "        count += 1\n",
    "    return count\n",
    "\n",
    "my_list = [1, 2, 3, 4, 5]\n",
    "print(list_length(my_list))  # 5\n",
    "my_list = [1, 2, 3]\n",
    "my_list.append(4)\n",
    "print(my_list)  # [1, 2, 3, 4]\n",
    "my_list = [1, 2, 3]\n",
    "my_list.insert(1, 4)\n",
    "print(my_list)  # [1, 4, 2, 3]\n",
    "my_list = [1, 2, 3, 2, 4]\n",
    "my_list.remove(2)\n",
    "print(my_list)  # [1, 3, 2, 4]\n",
    "my_list = [1, 2, 3, 4, 5]\n",
    "del my_list[1]\n",
    "print(my_list)  # [1, 3, 4, 5]\n",
    "my_list = [1, 2, 3, 4, 5]\n",
    "print(3 in my_list)  # True\n",
    "print(6 in my_list)  # False\n",
    "my_list = [1, 2, 3, 2, 4]\n",
    "print(my_list.index(2))  # 1\n",
    "my_list = [1, 2, 3, 2, 4]\n",
    "print(my_list.count(2))  # 2\n",
    "my_list = [1, 2, 3, 4, 5]\n",
    "my_list.reverse()\n",
    "print(my_list)  # [5, 4, 3, 2, 1]"
   ]
  },
  {
   "cell_type": "code",
   "execution_count": 45,
   "id": "e6d6de05-5d10-4e10-9bc6-88bc8886a3ef",
   "metadata": {},
   "outputs": [
    {
     "name": "stdout",
     "output_type": "stream",
     "text": [
      "[1, 2, 3, 4, 5, 8]\n"
     ]
    }
   ],
   "source": [
    "#11. Sort a list in ascending order.\n",
    "my_list = [5, 2, 8, 3, 1, 4]\n",
    "my_list.sort()\n",
    "print(my_list)  # [1, 2, 3, 4, 5, 8]"
   ]
  },
  {
   "cell_type": "code",
   "execution_count": null,
   "id": "f1e5a443-9079-42dc-8c38-20f095c18359",
   "metadata": {},
   "outputs": [],
   "source": [
    "#12. Sort a list in descending order.\n",
    "my_list = [5, 2, 8, 3, 1, 4]\n",
    "sorted_list = sorted(my_list, reverse=True)\n",
    "print(sorted_list)  # [8, 5, 4, 3, 2, 1]\n",
    "print(my_list)  # [5, 2, 8, 3, 1, 4] (original list remains unchanged)"
   ]
  },
  {
   "cell_type": "code",
   "execution_count": null,
   "id": "abd4ef1f-acb5-4d94-9c93-e89758c5f7cb",
   "metadata": {},
   "outputs": [],
   "source": []
  },
  {
   "cell_type": "code",
   "execution_count": null,
   "id": "8f5497be-f386-4532-9213-c17aacc9870f",
   "metadata": {},
   "outputs": [],
   "source": [
    "\n",
    "\n",
    "13. Create a list of even numbers from 1 to 20.\n",
    "\n",
    "14. Create a list of odd numbers from 1 to 20.\n",
    "\n",
    "15. Find the sum of all elements in a list.\n",
    "\n",
    "16. Find the maximum value in a list.\n",
    "\n",
    "17. Find the minimum value in a list.\n",
    "\n",
    "18. Create a list of squares of numbers from 1 to 10.\n",
    "19. Create a list of random numbers.\n",
    "\n",
    "20. Remove duplicates from a list.\n",
    "21. Find the common elements between two lists.\n",
    "\n",
    "22. Find the difference between two lists.\n",
    "\n",
    "23. Merge two lists.\n",
    "24. Multiply all elements in a list by 2.\n",
    "25. Filter out all even numbers from a list.\n",
    "\n",
    "Full Stack Data Science Pro\n",
    "\n",
    "26. Convert a list of strings to a list of integers.\n",
    "27. Convert a list of integers to a list of strings.\n",
    "28. Flatten a nested list.\n",
    "\n",
    "29. Create a list of the first 10 Fibonacci numbers.\n",
    "\n",
    "30. Check if a list is sorted.\n",
    "\n",
    "31. Rotate a list to the left by `n` positions.\n",
    "32. Rotate a list to the right by `n` positions.\n",
    "33. Create a list of prime numbers up to 50.\n",
    "34. Split a list into chunks of size `n`.\n",
    "35. Find the second largest number in a list.\n",
    "36. Replace every element in a list with its square.\n",
    "37. Convert a list to a dictionary where list elements become keys and their\n",
    "indices become values.\n",
    "\n",
    "38. Shuffle the elements of a list randomly.\n",
    "39. Create a list of the first 10 factorial numbers.\n",
    "\n",
    "Full Stack Data Science Pro\n",
    "40. Check if two lists have at least one element in common.\n",
    "\n",
    "41. Remove all elements from a list.\n",
    "\n",
    "42. Replace negative numbers in a list with 0.\n",
    "43. Convert a string into a list of words.\n",
    "44. Convert a list of words into a string.\n",
    "45. Create a list of the first `n` powers of 2.\n",
    "46. Find the longest string in a list of strings.\n",
    "47. Find the shortest string in a list of strings.\n",
    "48. Create a list of the first `n` triangular numbers.\n",
    "49. Check if a list contains another list as a subsequence.\n",
    "50. Swap two elements in a list by their indices.\n",
    "\n",
    "1. Create a tuple with integers from 1 to 5.\n",
    "2. Access the third element of a tuple.\n",
    "3. Find the length of a tuple without using the `len()` function.\n",
    "4. Count the occurrences of an element in a tuple.\n",
    "Tuple Based Practice Problem :\n",
    "\n",
    "Full Stack Data Science Pro\n",
    "\n",
    "5. Find the index of the first occurrence of an element in a tuple.\n",
    "6. Check if an element exists in a tuple.\n",
    "7. Convert a tuple to a list.\n",
    "8. Convert a list to a tuple.\n",
    "9. Unpack the elements of a tuple into variables.\n",
    "10. Create a tuple of even numbers from 1 to 10.\n",
    "11. Create a tuple of odd numbers from 1 to 10.\n",
    "12. Concatenate two tuples.\n",
    "13. Repeat a tuple three times.\n",
    "14. Check if a tuple is empty.\n",
    "15. Create a nested tuple.\n",
    "16. Access the first element of a nested tuple.\n",
    "17. Create a tuple with a single element.\n",
    "18. Compare two tuples.\n",
    "19. Delete a tuple.\n",
    "20. Slice a tuple.\n",
    "\n",
    "Full Stack Data Science Pro\n",
    "\n",
    "21. Find the maximum value in a tuple.\n",
    "22. Find the minimum value in a tuple.\n",
    "23. Convert a string to a tuple of characters.\n",
    "24. Convert a tuple of characters to a string.\n",
    "25. Create a tuple from multiple data types.\n",
    "26. Check if two tuples are identical.\n",
    "27. Sort the elements of a tuple.\n",
    "28. Convert a tuple of integers to a tuple of strings.\n",
    "29. Convert a tuple of strings to a tuple of integers.\n",
    "30. Merge two tuples.\n",
    "31. Flatten a nested tuple.\n",
    "32. Create a tuple of the first 5 prime numbers.\n",
    "33. Check if a tuple is a palindrome.\n",
    "34. Create a tuple of squares of numbers from 1 to 5.\n",
    "35. Filter out all even numbers from a tuple.\n",
    "36. Multiply all elements in a tuple by 2.\n",
    "\n",
    "Full Stack Data Science Pro\n",
    "\n",
    "37. Create a tuple of random numbers.\n",
    "38. Check if a tuple is sorted.\n",
    "39. Rotate a tuple to the left by `n` positions.\n",
    "40. Rotate a tuple to the right by `n` positions.\n",
    "41. Create a tuple of the first 5 Fibonacci numbers.\n",
    "42. Create a tuple from user input.\n",
    "43. Swap two elements in a tuple.\n",
    "44. Reverse the elements of a tuple.\n",
    "45. Create a tuple of the first `n` powers of 2.\n",
    "46. Find the longest string in a tuple of strings.\n",
    "47. Find the shortest string in a tuple of strings.\n",
    "48. Create a tuple of the first `n` triangular numbers.\n",
    "49. Check if a tuple contains another tuple as a subsequence.\n",
    "50. Create a tuple of alternating 1s and 0s of length `n`.\n",
    "\n",
    "Full Stack Data Science Pro\n",
    "\n",
    "1. Create a set with integers from 1 to 5.\n",
    "2. Add an element to a set.\n",
    "\n",
    "3. Remove an element from a set.\n",
    "\n",
    "4. Check if an element exists in a set.\n",
    "\n",
    "5. Find the length of a set without using the `len()` function.\n",
    "6. Clear all elements from a set.\n",
    "\n",
    "7. Create a set of even numbers from 1 to 10.\n",
    "\n",
    "8. Create a set of odd numbers from 1 to 10.\n",
    "\n",
    "9. Find the union of two sets.\n",
    "\n",
    "10. Find the intersection of two sets.\n",
    "\n",
    "11. Find the difference between two sets.\n",
    "\n",
    "12. Check if a set is a subset of another set.\n",
    "\n",
    "13. Check if a set is a superset of another set.\n",
    "14. Create a set from a list.\n",
    "\n",
    "15. Convert a set to a list.\n",
    "Set Based Practice Problem :\n",
    "\n",
    "Full Stack Data Science Pro\n",
    "\n",
    "16. Remove a random element from a set.\n",
    "\n",
    "17. Pop an element from a set.\n",
    "18. Check if two sets have no elements in common.\n",
    "\n",
    "19. Find the symmetric difference between two sets.\n",
    "20. Update a set with elements from another set.\n",
    "21. Create a set of the first 5 prime numbers.\n",
    "22. Check if two sets are identical.\n",
    "\n",
    "23. Create a frozen set.\n",
    "\n",
    "24. Check if a set is disjoint with another set.\n",
    "25. Create a set of squares of numbers from 1 to 5.\n",
    "26. Filter out all even numbers from a set.\n",
    "\n",
    "27. Multiply all elements in a set by 2.\n",
    "28. Create a set of random numbers.\n",
    "\n",
    "29. Check if a set is empty.\n",
    "30. Create a nested set (hint: use frozenset).\n",
    "\n",
    "31. Remove an element from a set using the discard method.\n",
    "\n",
    "Full Stack Data Science Pro\n",
    "\n",
    "32. Compare two sets.\n",
    "33. Create a set from a string.\n",
    "34. Convert a set of strings to a set of integers.\n",
    "35. Convert a set of integers to a set of strings.\n",
    "36. Create a set from a tuple.\n",
    "37. Convert a set to a tuple.\n",
    "38. Find the maximum value in a set.\n",
    "\n",
    "39. Find the minimum value in a set.\n",
    "\n",
    "40. Create a set from user input.\n",
    "41. Check if the intersection of two sets is empty.\n",
    "42. Create a set of the first 5 Fibonacci numbers.\n",
    "\n",
    "43. Remove duplicates from a list using sets.\n",
    "44. Check if two sets have the same elements, regardless of their count.\n",
    "45. Create a set of the first `n` powers of 2.\n",
    "46. Find the common elements between a set and a list.\n",
    "\n",
    "47. Create a set of the first `n` triangular numbers.\n",
    "\n",
    "Full Stack Data Science"
   ]
  }
 ],
 "metadata": {
  "kernelspec": {
   "display_name": "Python 3 (ipykernel)",
   "language": "python",
   "name": "python3"
  },
  "language_info": {
   "codemirror_mode": {
    "name": "ipython",
    "version": 3
   },
   "file_extension": ".py",
   "mimetype": "text/x-python",
   "name": "python",
   "nbconvert_exporter": "python",
   "pygments_lexer": "ipython3",
   "version": "3.10.8"
  }
 },
 "nbformat": 4,
 "nbformat_minor": 5
}
