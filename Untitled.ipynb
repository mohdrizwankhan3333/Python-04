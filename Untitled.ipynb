{
 "cells": [
  {
   "cell_type": "code",
   "execution_count": 31,
   "id": "3a6cedb9-716b-414b-b1d4-0b84d2a119fe",
   "metadata": {},
   "outputs": [
    {
     "data": {
      "text/plain": [
       "55"
      ]
     },
     "execution_count": 31,
     "metadata": {},
     "output_type": "execute_result"
    }
   ],
   "source": []
  },
  {
   "cell_type": "code",
   "execution_count": 13,
   "id": "020c14b0-9c84-4a89-ab01-d728568d6f9b",
   "metadata": {},
   "outputs": [
    {
     "name": "stdout",
     "output_type": "stream",
     "text": [
      "[3, 4, 5, 6, 8, 8]\n"
     ]
    }
   ],
   "source": [
    "def bubble_sort(a):\n",
    "    for i in range(len(a)):\n",
    "        for j in range(len(a)-i-1):\n",
    "            if a[j]>a[j+1]:\n",
    "                a[j],a[j+1]=a[j+1],a[j]\n",
    "    return a\n"
   ]
  },
  {
   "cell_type": "code",
   "execution_count": 22,
   "id": "38cef828-1772-4d5a-8194-16d6486fa5b6",
   "metadata": {},
   "outputs": [
    {
     "name": "stdout",
     "output_type": "stream",
     "text": [
      "None\n"
     ]
    }
   ],
   "source": [
    "def sortt(a):\n",
    "    for i in range(len(a)):\n",
    "        for j in range(len(a)-i-1):\n",
    "            if a[j]>a[j+1]:\n",
    "                isSorted =False\n",
    "                a[j],a[j+1]=a[j+1],a[j]\n",
    "        if isSorted:\n",
    "            print(\"array is already sorted :\",a)\n",
    "            break\n",
    "a=[5,4,3,6,8,8]\n",
    "print(sortt(a))"
   ]
  },
  {
   "cell_type": "code",
   "execution_count": 25,
   "id": "b125f3a4-d6c7-4fef-ba92-2e4aeaea9120",
   "metadata": {},
   "outputs": [
    {
     "ename": "IndentationError",
     "evalue": "unexpected indent (123901434.py, line 4)",
     "output_type": "error",
     "traceback": [
      "\u001b[0;36m  Cell \u001b[0;32mIn[25], line 4\u001b[0;36m\u001b[0m\n\u001b[0;31m    for j in range(i):\u001b[0m\n\u001b[0m    ^\u001b[0m\n\u001b[0;31mIndentationError\u001b[0m\u001b[0;31m:\u001b[0m unexpected indent\n"
     ]
    }
   ],
   "source": []
  },
  {
   "cell_type": "code",
   "execution_count": 34,
   "id": "da8e24d1-4524-4fbe-bb32-8825ca43ac34",
   "metadata": {},
   "outputs": [
    {
     "name": "stdout",
     "output_type": "stream",
     "text": [
      "None\n"
     ]
    }
   ],
   "source": [
    "def bubbleSortOptimized(arr):\n",
    "    for i in range(len(arr)-1, 0 , -1):\n",
    "        k = True\n",
    "        for j in range(i):\n",
    "            if(arr[j]>arr[j+1]):\n",
    "                k = False\n",
    "                arr[j],arr[j+1] = arr[j+1],arr[j]\n",
    "                arr\n",
    "        if k :\n",
    "            print(\"Array is already sorted\",arr)\n",
    "            break\n",
    "a=[5,4,3,6,8,-8]\n",
    "print(bubbleSortOptimized(a))"
   ]
  },
  {
   "cell_type": "code",
   "execution_count": null,
   "id": "91b4cdce-fedf-49ed-944d-fc7a735a7fcd",
   "metadata": {},
   "outputs": [],
   "source": []
  }
 ],
 "metadata": {
  "kernelspec": {
   "display_name": "Python 3 (ipykernel)",
   "language": "python",
   "name": "python3"
  },
  "language_info": {
   "codemirror_mode": {
    "name": "ipython",
    "version": 3
   },
   "file_extension": ".py",
   "mimetype": "text/x-python",
   "name": "python",
   "nbconvert_exporter": "python",
   "pygments_lexer": "ipython3",
   "version": "3.10.8"
  }
 },
 "nbformat": 4,
 "nbformat_minor": 5
}
