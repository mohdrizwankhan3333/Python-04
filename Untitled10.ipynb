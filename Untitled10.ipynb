{
 "cells": [
  {
   "cell_type": "code",
   "execution_count": 4,
   "id": "e4219e91-b035-4738-a1f3-51c36881a590",
   "metadata": {},
   "outputs": [
    {
     "name": "stdout",
     "output_type": "stream",
     "text": [
      "8 56\n"
     ]
    }
   ],
   "source": [
    "class bigdata:\n",
    "    def __init__(self , number_of_class , number_of_studnet):\n",
    "        self.number_of_class = number_of_class\n",
    "        self.number_of_studnet = number_of_studnet\n",
    "        \n",
    "    def __add__(self , other): # <<---\n",
    "        return bigdata(self.number_of_class + other.number_of_class , self.number_of_studnet+ other.number_of_studnet) #<<---\n",
    "c1 = bigdata(1,10)\n",
    "c2 = bigdata(2,12)\n",
    "c0=bigdata(3,22)\n",
    "c3 = bigdata(2,12)\n",
    "result = c0+c1+c2 + c3 # <<---\n",
    "print(result.number_of_class , result.number_of_studnet)"
   ]
  },
  {
   "cell_type": "code",
   "execution_count": 10,
   "id": "ab144b0d-6d90-41d7-84b5-2b9477bb4bed",
   "metadata": {},
   "outputs": [
    {
     "ename": "NameError",
     "evalue": "name 'name' is not defined",
     "output_type": "error",
     "traceback": [
      "\u001b[0;31m---------------------------------------------------------------------------\u001b[0m",
      "\u001b[0;31mNameError\u001b[0m                                 Traceback (most recent call last)",
      "Cell \u001b[0;32mIn[10], line 7\u001b[0m\n\u001b[1;32m      5\u001b[0m         \u001b[38;5;28;01mreturn\u001b[39;00m \u001b[38;5;28mself\u001b[39m\u001b[38;5;241m.\u001b[39mname\n\u001b[1;32m      6\u001b[0m sesha \u001b[38;5;241m=\u001b[39m datascience()\n\u001b[0;32m----> 7\u001b[0m \u001b[43msesha\u001b[49m\u001b[38;5;241;43m.\u001b[39;49m\u001b[43moutput_class\u001b[49m\u001b[43m(\u001b[49m\u001b[43m)\u001b[49m\n",
      "Cell \u001b[0;32mIn[10], line 4\u001b[0m, in \u001b[0;36mdatascience.output_class\u001b[0;34m(self)\u001b[0m\n\u001b[1;32m      3\u001b[0m \u001b[38;5;28;01mdef\u001b[39;00m \u001b[38;5;21moutput_class\u001b[39m(\u001b[38;5;28mself\u001b[39m): \u001b[38;5;66;03m# Ducktyping method \u001b[39;00m\n\u001b[0;32m----> 4\u001b[0m     \u001b[38;5;28mself\u001b[39m\u001b[38;5;241m.\u001b[39mname\u001b[38;5;241m=\u001b[39m\u001b[43mname\u001b[49m\n\u001b[1;32m      5\u001b[0m     \u001b[38;5;28;01mreturn\u001b[39;00m \u001b[38;5;28mself\u001b[39m\u001b[38;5;241m.\u001b[39mname\n",
      "\u001b[0;31mNameError\u001b[0m: name 'name' is not defined"
     ]
    }
   ],
   "source": []
  },
  {
   "cell_type": "code",
   "execution_count": 6,
   "id": "4b4e49d5-eade-45b6-b7f3-1c69a16c463e",
   "metadata": {},
   "outputs": [
    {
     "name": "stdout",
     "output_type": "stream",
     "text": [
      "5\n"
     ]
    }
   ],
   "source": []
  },
  {
   "cell_type": "code",
   "execution_count": null,
   "id": "b3a88e8c-7767-4ea1-9b4f-8b272d1fc092",
   "metadata": {},
   "outputs": [],
   "source": []
  }
 ],
 "metadata": {
  "kernelspec": {
   "display_name": "Python 3 (ipykernel)",
   "language": "python",
   "name": "python3"
  },
  "language_info": {
   "codemirror_mode": {
    "name": "ipython",
    "version": 3
   },
   "file_extension": ".py",
   "mimetype": "text/x-python",
   "name": "python",
   "nbconvert_exporter": "python",
   "pygments_lexer": "ipython3",
   "version": "3.10.8"
  }
 },
 "nbformat": 4,
 "nbformat_minor": 5
}
