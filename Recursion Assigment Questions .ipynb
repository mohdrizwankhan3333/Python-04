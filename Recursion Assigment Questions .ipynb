{
 "cells": [
  {
   "cell_type": "code",
   "execution_count": null,
   "id": "659c514e-ee9f-4645-9f89-7a3122b8cb3d",
   "metadata": {},
   "outputs": [],
   "source": [
    "'''Q.1 Can you explain the logic and working of the Tower of Hanoi algorithm by writing a Java program?\n",
    "How does the recursion work, and how are the movements of disks between rods accomplished?\n",
    "\n",
    "The Tower of Hanoi is a classic problem in computer science and mathematics that involves moving a set of disks of different sizes from one rod to another,\n",
    "subject to the following rules:\n",
    "(i).Only one disk can be moved at a time.\n",
    "(ii).A disk can only be moved to the top of another rod if it is smaller than the disk already on the top of that rod.\n",
    "(iii).No disk may be placed on top of a smaller disk.\n",
    "The problem can be solved using recursion.\n",
    "Here's a Python implementation of the Tower of Hanoi algorithm:\n",
    "def tower_of_hanoi(n, source_rod, target_rod, auxiliary_rod):\n",
    "    if n == 1:\n",
    "        print(f\"Move disk 1 from {source_rod} to {target_rod}\")\n",
    "        return\n",
    "    tower_of_hanoi(n - 1, source_rod, auxiliary_rod, target_rod)\n",
    "    print(f\"Move disk {n} from {source_rod} to {target_rod}\")\n",
    "    tower_of_hanoi(n - 1, auxiliary_rod, target_rod, source_rod)\n",
    "number_of_disks = 3\n",
    "tower_of_hanoi(number_of_disks, 'A', 'C', 'B')Explanation of the logic and working:\n",
    "The tower_of_hanoi function takes four parameters:\n",
    "n: The number of disks to be moved.\n",
    "source_rod: The rod from which the disks are initially placed.\n",
    "target_rod: The rod to which the disks are to be moved.\n",
    "auxiliary_rod: The auxiliary (or spare) rod that helps in the movement.\n",
    "The base case is when there's only one disk (n == 1). In this case, it directly moves the disk from the source rod to the target rod.\n",
    "For the case when n > 1, it follows these steps:\n",
    "a. Move n-1 disks from the source rod to the auxiliary rod, using the target rod as the auxiliary.\n",
    "b. Move the largest disk from the source rod to the target rod.\n",
    "c. Move the n-1 disks from the auxiliary rod to the target rod, using the source rod as the auxiliary.\n",
    "This recursive approach ensures that the Tower of Hanoi problem is solved for any number of disks. The movement of disks between rods is achieved through the recursive calls and follows the rules mentioned earlier.\n",
    "Explanation of the logic and working:\n",
    "The tower_of_hanoi function takes four parameters:\n",
    "n: The number of disks to be moved.\n",
    "source_rod: The rod from which the disks are initially placed.\n",
    "target_rod: The rod to which the disks are to be moved.\n",
    "auxiliary_rod: The auxiliary (or spare) rod that helps in the movement.\n",
    "The base case is when there's only one disk (n == 1). In this case, it directly moves the disk from the source rod to the target rod.\n",
    "For the case when n > 1, it follows these steps:\n",
    "a. Move n-1 disks from the source rod to the auxiliary rod, using the target rod as the auxiliary.\n",
    "b. Move the largest disk from the source rod to the target rod.\n",
    "c. Move the n-1 disks from the auxiliary rod to the target rod, using the source rod as the auxiliary.\n",
    "This recursive approach ensures that the Tower of Hanoi problem is solved for any number of disks. The movement of disks between rods is achieved through \n",
    "the recursive calls and follows the rules mentioned earlier.'''"
   ]
  },
  {
   "cell_type": "code",
   "execution_count": 3,
   "id": "72a1cfb2-79c1-4b7b-97aa-c0d5cc4badc9",
   "metadata": {},
   "outputs": [
    {
     "name": "stdout",
     "output_type": "stream",
     "text": [
      "3\n"
     ]
    }
   ],
   "source": [
    "'''Q.2 Given two strings word1 and word2, return the minimum number of operations required to convert word1\n",
    "to word2.\n",
    "Example 1:\n",
    "Input: word1 = \"horse\", word2 = \"ros\"\n",
    "Output: 3\n",
    "Explanation:\n",
    "horse -> rorse (replace 'h' with 'r')\n",
    "rorse -> rose (remove 'r')\n",
    "rose -> ros (remove 'e')'''\n",
    "def min_operations(word1, word2):\n",
    "    m, n = len(word1), len(word2)\n",
    "    dp = [[0] * (n + 1) for _ in range(m + 1)]\n",
    "    for i in range(m + 1):\n",
    "        dp[i][0] = i\n",
    "    for j in range(n + 1):\n",
    "        dp[0][j] = j\n",
    "    for i in range(1, m + 1):\n",
    "        for j in range(1, n + 1):\n",
    "            if word1[i - 1] == word2[j - 1]:\n",
    "                dp[i][j] = dp[i - 1][j - 1]\n",
    "            else:\n",
    "                dp[i][j] = 1 + min(dp[i - 1][j], \n",
    "                                  dp[i][j - 1], \n",
    "                                  dp[i - 1][j - 1])  \n",
    "    return dp[m][n]\n",
    "word1 = \"horse\"\n",
    "word2 = \"ros\"\n",
    "result = min_operations(word1, word2)\n",
    "print(result) "
   ]
  },
  {
   "cell_type": "code",
   "execution_count": 5,
   "id": "0b034130-65b8-4398-934e-b69147b4fe49",
   "metadata": {},
   "outputs": [
    {
     "name": "stdout",
     "output_type": "stream",
     "text": [
      "71\n"
     ]
    }
   ],
   "source": [
    "# Q. 3 Print the max value of the array [ 13, 1, -3, 22, 5].\n",
    "def array(a):\n",
    "    maxa=a[0]\n",
    "    for i in range(len(a)):\n",
    "        if a[i]>maxa:\n",
    "            maxa=a[i]\n",
    "    return maxa\n",
    "ar=[1,2,3,4,5,43,71,8]\n",
    "print(array(ar))"
   ]
  },
  {
   "cell_type": "code",
   "execution_count": 7,
   "id": "2455e25e-bda8-4eae-9127-ea82c4c72196",
   "metadata": {},
   "outputs": [
    {
     "name": "stdout",
     "output_type": "stream",
     "text": [
      "120\n"
     ]
    }
   ],
   "source": [
    "#Q.4 Find the sum of the values of the array [92, 23, 15, -20, 10].\n",
    "def sumar(a):\n",
    "    s=0\n",
    "    for i  in range(len(a)):\n",
    "         s+=a[i]\n",
    "    return s\n",
    "a=[92, 23, 15, -20, 10]\n",
    "print(sumar(a))"
   ]
  },
  {
   "cell_type": "code",
   "execution_count": 11,
   "id": "f3110fbf-1c8f-413e-a133-6171803cc6d1",
   "metadata": {},
   "outputs": [
    {
     "name": "stdout",
     "output_type": "stream",
     "text": [
      "153 is an armstrong number.\n"
     ]
    }
   ],
   "source": [
    "# Q.5 Given a number n. Print if it is an armstrong number or not.An armstrong number is a number if the sum\n",
    "# of every digit in that number raised to the power of total digits in that number is equal to the number.\n",
    "def is_armstrong(n):\n",
    "    n_str = str(n)\n",
    "    num_digits = len(n_str)\n",
    "    total = sum(int(digit) ** num_digits for digit in n_str)\n",
    "    return total == n\n",
    "def print_if_armstrong(n):\n",
    "    if is_armstrong(n):\n",
    "        print(f\"{n} is an armstrong number.\")\n",
    "    else:\n",
    "        print(f\"{n} is not an armstrong number.\")\n",
    "print_if_armstrong(153) "
   ]
  },
  {
   "cell_type": "code",
   "execution_count": null,
   "id": "6bf64cda-2f5c-42ef-a65e-522bf102b082",
   "metadata": {},
   "outputs": [],
   "source": []
  }
 ],
 "metadata": {
  "kernelspec": {
   "display_name": "Python 3 (ipykernel)",
   "language": "python",
   "name": "python3"
  },
  "language_info": {
   "codemirror_mode": {
    "name": "ipython",
    "version": 3
   },
   "file_extension": ".py",
   "mimetype": "text/x-python",
   "name": "python",
   "nbconvert_exporter": "python",
   "pygments_lexer": "ipython3",
   "version": "3.10.8"
  }
 },
 "nbformat": 4,
 "nbformat_minor": 5
}
